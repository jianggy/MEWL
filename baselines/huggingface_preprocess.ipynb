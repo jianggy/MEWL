{
 "cells": [
  {
   "cell_type": "code",
   "execution_count": 1,
   "metadata": {},
   "outputs": [],
   "source": [
    "import json\n",
    "import pathlib\n",
    "from gpt3 import MewlCaptioner\n",
    "from tqdm import tqdm"
   ]
  },
  {
   "cell_type": "code",
   "execution_count": 2,
   "metadata": {},
   "outputs": [],
   "source": [
    "captioner = MewlCaptioner()"
   ]
  },
  {
   "cell_type": "code",
   "execution_count": 3,
   "metadata": {},
   "outputs": [],
   "source": [
    "def test_task(captioner, dataset_path, task_name):\n",
    "    dataset_path = pathlib.Path(dataset_path) / task_name\n",
    "    all_episodes = dataset_path.glob('*/')\n",
    "    all_episodes = sorted(all_episodes, key=lambda x: int(x.name))\n",
    "\n",
    "    all_datasets = []\n",
    "\n",
    "    caption_func = getattr(captioner, task_name)\n",
    "\n",
    "    for i, epi in tqdm(enumerate(all_episodes), total=len(all_episodes)):\n",
    "        prompt = \"\"\n",
    "        contexts, query = caption_func(epi)\n",
    "        for context in contexts:\n",
    "            prompt += f\"Context: {context[0]}\\nName: {context[1]}\\n\\n\"\n",
    "\n",
    "        prompt += f\"Context: {query[0]}\\nName: \"\n",
    "\n",
    "        query_description, choices, answer = query\n",
    "\n",
    "        label = choices.index(answer)\n",
    "\n",
    "        all_datasets.append({\n",
    "            \"start_phrase\": prompt,\n",
    "            \"choices\": choices,\n",
    "            \"label\": label,\n",
    "            \"task\": task_name\n",
    "        })\n",
    "\n",
    "    return all_datasets"
   ]
  },
  {
   "cell_type": "code",
   "execution_count": 6,
   "metadata": {},
   "outputs": [],
   "source": [
    "dataset_path = pathlib.Path(\"/home/guangyuan/MEWL\")"
   ]
  },
  {
   "cell_type": "code",
   "execution_count": 7,
   "metadata": {},
   "outputs": [
    {
     "name": "stderr",
     "output_type": "stream",
     "text": [
      "100%|██████████| 3000/3000 [00:00<00:00, 7303.80it/s]\n",
      "100%|██████████| 600/600 [00:00<00:00, 9153.64it/s]\n",
      "100%|██████████| 600/600 [00:00<00:00, 7475.57it/s]\n",
      "100%|██████████| 3000/3000 [00:00<00:00, 4200.57it/s]\n",
      "100%|██████████| 600/600 [00:00<00:00, 4284.91it/s]\n",
      "100%|██████████| 600/600 [00:00<00:00, 4050.50it/s]\n",
      "100%|██████████| 3000/3000 [00:00<00:00, 6675.68it/s]\n",
      "100%|██████████| 600/600 [00:00<00:00, 6658.86it/s]\n",
      "100%|██████████| 600/600 [00:00<00:00, 6574.18it/s]\n",
      "100%|██████████| 3000/3000 [00:03<00:00, 758.20it/s]\n",
      "100%|██████████| 600/600 [00:00<00:00, 739.81it/s]\n",
      "100%|██████████| 600/600 [00:00<00:00, 718.76it/s]\n",
      "100%|██████████| 3000/3000 [00:00<00:00, 4195.26it/s]\n",
      "100%|██████████| 600/600 [00:00<00:00, 4187.67it/s]\n",
      "100%|██████████| 600/600 [00:00<00:00, 4077.30it/s]\n",
      "100%|██████████| 3000/3000 [00:00<00:00, 6241.86it/s]\n",
      "100%|██████████| 600/600 [00:00<00:00, 6147.60it/s]\n",
      "100%|██████████| 600/600 [00:00<00:00, 6139.62it/s]\n",
      "100%|██████████| 3000/3000 [00:00<00:00, 6458.41it/s]\n",
      "100%|██████████| 600/600 [00:00<00:00, 6462.25it/s]\n",
      "100%|██████████| 600/600 [00:00<00:00, 6323.60it/s]\n",
      "100%|██████████| 3000/3000 [00:00<00:00, 6731.84it/s]\n",
      "100%|██████████| 600/600 [00:00<00:00, 6603.44it/s]\n",
      "100%|██████████| 600/600 [00:00<00:00, 6428.35it/s]\n",
      "100%|██████████| 3000/3000 [00:01<00:00, 1602.86it/s]\n",
      "100%|██████████| 600/600 [00:00<00:00, 1662.80it/s]\n",
      "100%|██████████| 600/600 [00:00<00:00, 1699.29it/s]\n"
     ]
    }
   ],
   "source": [
    "from model.consts import task_names\n",
    "\n",
    "for task in task_names:\n",
    "    dataset = {}\n",
    "    for split in [\"train\", \"val\", \"test\"]:\n",
    "        dataset[split] = test_task(captioner, dataset_path / split, task)\n",
    "\n",
    "    with open(f\"./dataset/{task}.json\", \"w+\") as f:\n",
    "        json.dump(dataset, f, indent=4)"
   ]
  }
 ],
 "metadata": {
  "kernelspec": {
   "display_name": "torch",
   "language": "python",
   "name": "python3"
  },
  "language_info": {
   "codemirror_mode": {
    "name": "ipython",
    "version": 3
   },
   "file_extension": ".py",
   "mimetype": "text/x-python",
   "name": "python",
   "nbconvert_exporter": "python",
   "pygments_lexer": "ipython3",
   "version": "3.9.12"
  },
  "orig_nbformat": 4,
  "vscode": {
   "interpreter": {
    "hash": "2ef4b250f365802f7fd34160c56cd38113d88eaa03c9b2fc949a23f7804a6111"
   }
  }
 },
 "nbformat": 4,
 "nbformat_minor": 2
}
